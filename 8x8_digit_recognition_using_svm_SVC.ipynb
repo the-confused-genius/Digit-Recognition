{
  "nbformat": 4,
  "nbformat_minor": 0,
  "metadata": {
    "colab": {
      "name": "8x8 digit recognition using svm.SVC.ipynb",
      "provenance": [],
      "collapsed_sections": [],
      "authorship_tag": "ABX9TyMuVdnAW2dtauwthAZYI/ph",
      "include_colab_link": true
    },
    "kernelspec": {
      "name": "python3",
      "display_name": "Python 3"
    },
    "language_info": {
      "name": "python"
    }
  },
  "cells": [
    {
      "cell_type": "markdown",
      "metadata": {
        "id": "view-in-github",
        "colab_type": "text"
      },
      "source": [
        "<a href=\"https://colab.research.google.com/github/the-confused-genius/Digit-Recognition/blob/main/8x8_digit_recognition_using_svm_SVC.ipynb\" target=\"_parent\"><img src=\"https://colab.research.google.com/assets/colab-badge.svg\" alt=\"Open In Colab\"/></a>"
      ]
    },
    {
      "cell_type": "markdown",
      "source": [
        "# Handwrittien Digit Recognition using SVM"
      ],
      "metadata": {
        "id": "X7ajAdnfHxKW"
      }
    },
    {
      "cell_type": "markdown",
      "source": [
        "## Importing Basic Libraries"
      ],
      "metadata": {
        "id": "si-3xrQrHsDv"
      }
    },
    {
      "cell_type": "code",
      "execution_count": null,
      "metadata": {
        "id": "Xpqo7zcSFo3A"
      },
      "outputs": [],
      "source": [
        "import numpy as np\n",
        "from sklearn.datasets import load_digits"
      ]
    },
    {
      "cell_type": "markdown",
      "source": [
        "## Load Dataset"
      ],
      "metadata": {
        "id": "WtGydo8zH5q0"
      }
    },
    {
      "cell_type": "code",
      "source": [
        "df = load_digits()"
      ],
      "metadata": {
        "id": "qIhiH9W2Hqew"
      },
      "execution_count": null,
      "outputs": []
    },
    {
      "cell_type": "markdown",
      "source": [
        "## Summarize Dataset"
      ],
      "metadata": {
        "id": "pdHFJYobIFBf"
      }
    },
    {
      "cell_type": "code",
      "source": [
        "print(\"The data is :\",df.data)\n",
        "print(\"The target is :\",df.target)\n",
        "\n",
        "print(\"Shape of the data is :\",df.data.shape)\n",
        "print(\"Shape of the image :\",df.images.shape[1],df.images.shape[2])\n",
        "\n",
        "dfimagelength = len(df.images)\n",
        "print(\"Number of samples are :\",dfimagelength)"
      ],
      "metadata": {
        "colab": {
          "base_uri": "https://localhost:8080/"
        },
        "id": "KqXTt-lUIHny",
        "outputId": "9284232d-8f4a-484a-9329-158064ee575b"
      },
      "execution_count": null,
      "outputs": [
        {
          "output_type": "stream",
          "name": "stdout",
          "text": [
            "The data is : [[ 0.  0.  5. ...  0.  0.  0.]\n",
            " [ 0.  0.  0. ... 10.  0.  0.]\n",
            " [ 0.  0.  0. ... 16.  9.  0.]\n",
            " ...\n",
            " [ 0.  0.  1. ...  6.  0.  0.]\n",
            " [ 0.  0.  2. ... 12.  0.  0.]\n",
            " [ 0.  0. 10. ... 12.  1.  0.]]\n",
            "The target is : [0 1 2 ... 8 9 8]\n",
            "Shape of the data is : (1797, 64)\n",
            "Shape of the image : 8 8\n",
            "Number of samples are : 1797\n"
          ]
        }
      ]
    },
    {
      "cell_type": "markdown",
      "source": [
        "## Visualizing the Dataset"
      ],
      "metadata": {
        "id": "8iWCCCfyJacg"
      }
    },
    {
      "cell_type": "code",
      "source": [
        "n = 7 #sample number to visualize\n",
        "\n",
        "import matplotlib.pyplot as plt\n",
        "plt.gray()\n",
        "plt.matshow(df.images[n])\n",
        "plt.show()\n",
        "\n",
        "df.images[n]"
      ],
      "metadata": {
        "colab": {
          "base_uri": "https://localhost:8080/",
          "height": 431
        },
        "id": "SC0WnKocIpPk",
        "outputId": "c06a2f01-0231-4cb4-f02c-79f40469cd75"
      },
      "execution_count": null,
      "outputs": [
        {
          "output_type": "display_data",
          "data": {
            "text/plain": [
              "<Figure size 432x288 with 0 Axes>"
            ]
          },
          "metadata": {}
        },
        {
          "output_type": "display_data",
          "data": {
            "image/png": "[encoded data removed]",
            "text/plain": [
              "<Figure size 288x288 with 1 Axes>"
            ]
          },
          "metadata": {
            "needs_background": "light"
          }
        },
        {
          "output_type": "execute_result",
          "data": {
            "text/plain": [
              "array([[ 0.,  0.,  7.,  8., 13., 16., 15.,  1.],\n",
              "       [ 0.,  0.,  7.,  7.,  4., 11., 12.,  0.],\n",
              "       [ 0.,  0.,  0.,  0.,  8., 13.,  1.,  0.],\n",
              "       [ 0.,  4.,  8.,  8., 15., 15.,  6.,  0.],\n",
              "       [ 0.,  2., 11., 15., 15.,  4.,  0.,  0.],\n",
              "       [ 0.,  0.,  0., 16.,  5.,  0.,  0.,  0.],\n",
              "       [ 0.,  0.,  9., 15.,  1.,  0.,  0.,  0.],\n",
              "       [ 0.,  0., 13.,  5.,  0.,  0.,  0.,  0.]])"
            ]
          },
          "metadata": {},
          "execution_count": 4
        }
      ]
    },
    {
      "cell_type": "markdown",
      "source": [
        "## Segregating dataset into x and y \n",
        "where x is the independent variable and y is the dependent variable"
      ],
      "metadata": {
        "id": "Rt4-sozoKiim"
      }
    },
    {
      "cell_type": "code",
      "source": [
        "x = df.images.reshape(dfimagelength,-1)\n",
        "y = df.target"
      ],
      "metadata": {
        "id": "ozdJfo1EL4l7"
      },
      "execution_count": null,
      "outputs": []
    },
    {
      "cell_type": "code",
      "source": [
        "from sklearn.model_selection import train_test_split\n",
        "x_train,x_test,y_train,y_test = train_test_split(x,y,test_size=0.3,random_state=0)\n",
        "print(x_train.shape)\n",
        "print(x_test.shape)"
      ],
      "metadata": {
        "colab": {
          "base_uri": "https://localhost:8080/"
        },
        "id": "tFiFNRTdKHay",
        "outputId": "2998c7ae-c606-4169-9d92-966a8712d9d8"
      },
      "execution_count": null,
      "outputs": [
        {
          "output_type": "stream",
          "name": "stdout",
          "text": [
            "(1257, 64)\n",
            "(540, 64)\n"
          ]
        }
      ]
    },
    {
      "cell_type": "markdown",
      "source": [
        "## Training the model"
      ],
      "metadata": {
        "id": "hEA4eh36MhQT"
      }
    },
    {
      "cell_type": "code",
      "source": [
        "from sklearn import svm\n",
        "model = svm.SVC(kernel='linear')\n",
        "model.fit(x_train,y_train)"
      ],
      "metadata": {
        "colab": {
          "base_uri": "https://localhost:8080/"
        },
        "id": "qg-w3V8OLx37",
        "outputId": "15a9340c-b61d-4759-eb19-358f197866c0"
      },
      "execution_count": null,
      "outputs": [
        {
          "output_type": "execute_result",
          "data": {
            "text/plain": [
              "SVC(kernel='linear')"
            ]
          },
          "metadata": {},
          "execution_count": 7
        }
      ]
    },
    {
      "cell_type": "markdown",
      "source": [
        "## Predicting the digits from Test data"
      ],
      "metadata": {
        "id": "5baGWDfjOZxI"
      }
    },
    {
      "cell_type": "code",
      "source": [
        "n = 13\n",
        "result = model.predict(df.images[n].reshape((1,-1)))\n",
        "plt.imshow(df.images[n],cmap=plt.cm.gray_r,interpolation='nearest')\n",
        "print(result)\n",
        "print(\"\\n\")\n",
        "plt.axis('off')\n",
        "plt.title('%i'%result)\n",
        "plt.show()"
      ],
      "metadata": {
        "colab": {
          "base_uri": "https://localhost:8080/",
          "height": 316
        },
        "id": "oIHj5s8TM5Ee",
        "outputId": "6fd96d58-effb-42b2-cd3a-658e9858e9f4"
      },
      "execution_count": null,
      "outputs": [
        {
          "output_type": "stream",
          "name": "stdout",
          "text": [
            "[3]\n",
            "\n",
            "\n"
          ]
        },
        {
          "output_type": "display_data",
          "data": {
            "image/png": "[encoded data removed]",
            "text/plain": [
              "<Figure size 432x288 with 1 Axes>"
            ]
          },
          "metadata": {
            "needs_background": "light"
          }
        }
      ]
    },
    {
      "cell_type": "markdown",
      "source": [
        "## Evaluating the model"
      ],
      "metadata": {
        "id": "4ME4d7qmPx9P"
      }
    },
    {
      "cell_type": "code",
      "source": [
        "y_pred = model.predict(x_test)\n",
        "print(np.concatenate((y_pred.reshape(len(y_pred),1),y_test.reshape(len(y_test),1)),1))"
      ],
      "metadata": {
        "colab": {
          "base_uri": "https://localhost:8080/"
        },
        "id": "_8lwQbnNP11A",
        "outputId": "45371952-a60a-467f-8cff-c341c6774b02"
      },
      "execution_count": null,
      "outputs": [
        {
          "output_type": "stream",
          "name": "stdout",
          "text": [
            "[[2 2]\n",
            " [8 8]\n",
            " [2 2]\n",
            " ...\n",
            " [6 6]\n",
            " [2 2]\n",
            " [9 9]]\n"
          ]
        }
      ]
    },
    {
      "cell_type": "code",
      "source": [
        "from sklearn.metrics import accuracy_score\n",
        "print(f'Accuracy of the model is {round(accuracy_score(y_test,y_pred)*100,2)}%')"
      ],
      "metadata": {
        "colab": {
          "base_uri": "https://localhost:8080/"
        },
        "id": "eeBbdxJlQJLc",
        "outputId": "8f576203-cab3-4df4-f436-44232711340e"
      },
      "execution_count": null,
      "outputs": [
        {
          "output_type": "stream",
          "name": "stdout",
          "text": [
            "Accuracy of the model is 97.41%\n"
          ]
        }
      ]
    },
    {
      "cell_type": "markdown",
      "source": [
        "## Applying Different Methods"
      ],
      "metadata": {
        "id": "4YPaLShGQ5F1"
      }
    },
    {
      "cell_type": "code",
      "source": [
        "from sklearn import svm\n",
        "model1 = svm.SVC(kernel='linear')\n",
        "model2 = svm.SVC(kernel='rbf')\n",
        "model3 = svm.SVC(gamma=0.001)\n",
        "model4 = svm.SVC(gamma=0.001,C=0.1)\n",
        "\n",
        "model1.fit(x_train,y_train)\n",
        "model2.fit(x_train,y_train)\n",
        "model3.fit(x_train,y_train)\n",
        "model4.fit(x_train,y_train)\n",
        "\n",
        "y_pred1 = model1.predict(x_test)\n",
        "y_pred2 = model2.predict(x_test)\n",
        "y_pred3 = model3.predict(x_test)\n",
        "y_pred4 = model4.predict(x_test)\n",
        "\n",
        "print(f'Accuracy of the model 1 is {round(accuracy_score(y_test,y_pred1)*100,2)}%')\n",
        "print(f'Accuracy of the model 2 is {round(accuracy_score(y_test,y_pred2)*100,2)}%')\n",
        "print(f'Accuracy of the model 3 is {round(accuracy_score(y_test,y_pred3)*100,2)}%')\n",
        "print(f'Accuracy of the model 4 is {round(accuracy_score(y_test,y_pred4)*100,2)}%')"
      ],
      "metadata": {
        "colab": {
          "base_uri": "https://localhost:8080/"
        },
        "id": "SK3M4pqkQ_VB",
        "outputId": "6813b315-1ac4-404d-f9b4-dd99ef0d0111"
      },
      "execution_count": null,
      "outputs": [
        {
          "output_type": "stream",
          "name": "stdout",
          "text": [
            "Accuracy of the model 1 is 97.41%\n",
            "Accuracy of the model 2 is 99.07%\n",
            "Accuracy of the model 3 is 99.26%\n",
            "Accuracy of the model 4 is 95.56%\n"
          ]
        }
      ]
    }
  ]
}