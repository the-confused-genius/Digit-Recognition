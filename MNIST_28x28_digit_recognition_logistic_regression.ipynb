{
  "nbformat": 4,
  "nbformat_minor": 0,
  "metadata": {
    "colab": {
      "name": "MNIST 28x28 digit recognition logistic regression.ipynb",
      "provenance": [],
      "collapsed_sections": [],
      "authorship_tag": "ABX9TyN78sz5GAEMayv2o+wBc2PF",
      "include_colab_link": true
    },
    "kernelspec": {
      "name": "python3",
      "display_name": "Python 3"
    },
    "language_info": {
      "name": "python"
    }
  },
  "cells": [
    {
      "cell_type": "markdown",
      "metadata": {
        "id": "view-in-github",
        "colab_type": "text"
      },
      "source": [
        "<a href=\"https://colab.research.google.com/github/the-confused-genius/Digit-Recognition/blob/main/MNIST_28x28_digit_recognition_logistic_regression.ipynb\" target=\"_parent\"><img src=\"https://colab.research.google.com/assets/colab-badge.svg\" alt=\"Open In Colab\"/></a>"
      ]
    },
    {
      "cell_type": "markdown",
      "source": [
        "# Working on the MNIST dataset using logistic regression "
      ],
      "metadata": {
        "id": "8sA3j8QzeAir"
      }
    },
    {
      "cell_type": "markdown",
      "source": [
        "## Fetching dataset"
      ],
      "metadata": {
        "id": "ryDxwCbhecyz"
      }
    },
    {
      "cell_type": "code",
      "execution_count": null,
      "metadata": {
        "id": "yS53eGjIbeQs"
      },
      "outputs": [],
      "source": [
        "from sklearn.datasets import fetch_openml\n",
        "import matplotlib\n",
        "import matplotlib.pyplot as plt\n",
        "import numpy as np\n",
        "import pandas as pd\n",
        "from sklearn.linear_model import LogisticRegression\n",
        "from sklearn.model_selection import cross_val_score\n",
        "import warnings\n",
        "warnings.filterwarnings(\"ignore\")"
      ]
    },
    {
      "cell_type": "markdown",
      "source": [
        "## Loading the dataset"
      ],
      "metadata": {
        "id": "atxIoqCqekA9"
      }
    },
    {
      "cell_type": "code",
      "source": [
        "mnist = fetch_openml('mnist_784')"
      ],
      "metadata": {
        "id": "ybwtCIQFemDH"
      },
      "execution_count": null,
      "outputs": []
    },
    {
      "cell_type": "markdown",
      "source": [
        "## Splitting the data into x and y\n",
        "where x is the dependent variable and y is the independent variable"
      ],
      "metadata": {
        "id": "7soxVoAugJfW"
      }
    },
    {
      "cell_type": "code",
      "source": [
        "x = mnist['data']\n",
        "y = mnist['target']"
      ],
      "metadata": {
        "id": "O_dQkxs3eXT-"
      },
      "execution_count": null,
      "outputs": []
    },
    {
      "cell_type": "markdown",
      "source": [
        "## Visulalizing a class"
      ],
      "metadata": {
        "id": "Zbgv2Beye8Ux"
      }
    },
    {
      "cell_type": "code",
      "source": [
        "n = 36001\n",
        "some_digit = x.to_numpy()[n]\n",
        "some_digit_image = some_digit.reshape(28, 28) \n",
        "\n",
        "plt.imshow(some_digit_image, cmap=matplotlib.cm.binary,\n",
        "           interpolation='nearest')\n",
        "plt.axis(\"off\")\n",
        "plt.title(f\"The numbe is {y.to_numpy()[n]}\")\n",
        "plt.show()"
      ],
      "metadata": {
        "colab": {
          "base_uri": "https://localhost:8080/",
          "height": 264
        },
        "id": "NsVURz7ofCDY",
        "outputId": "a2ecf7b8-ca6a-4dde-807d-156ccda8f605"
      },
      "execution_count": null,
      "outputs": [
        {
          "output_type": "display_data",
          "data": {
            "image/png": "[encoded data removed]",
            "text/plain": [
              "<Figure size 432x288 with 1 Axes>"
            ]
          },
          "metadata": {
            "needs_background": "light"
          }
        }
      ]
    },
    {
      "cell_type": "markdown",
      "source": [
        "## Splitting the data into train and test"
      ],
      "metadata": {
        "id": "NZnpXZvigEOj"
      }
    },
    {
      "cell_type": "code",
      "source": [
        "from sklearn.model_selection import train_test_split\n",
        "x_train,x_test,y_train,y_test = train_test_split(x,y,test_size=0.3,random_state=0)\n",
        "\n",
        "# Creating a 2-detector\n",
        "y_train = y_train.astype(np.int8)\n",
        "y_test = y_test.astype(np.int8)\n",
        "y_train_2 = (y_train == 2)\n",
        "y_test_2 = (y_test == 2)"
      ],
      "metadata": {
        "id": "tP8G3dgzgaG4"
      },
      "execution_count": null,
      "outputs": []
    },
    {
      "cell_type": "markdown",
      "source": [
        "## Display some images"
      ],
      "metadata": {
        "id": "XjvL4yNApP_w"
      }
    },
    {
      "cell_type": "code",
      "source": [
        "k = 7 #number of images to display\n",
        "fig, axes = plt.subplots(ncols=k, sharex=False,sharey=True, figsize=(20, 8))\n",
        "for i in range(k):\n",
        "    axes[i].set_title(y_train.to_numpy()[i])\n",
        "    axes[i].imshow(x_train.to_numpy()[i].reshape(28, 28), cmap='gray')\n",
        "    axes[i].get_xaxis().set_visible(False)\n",
        "    axes[i].get_yaxis().set_visible(False)\n",
        "plt.show()"
      ],
      "metadata": {
        "colab": {
          "base_uri": "https://localhost:8080/",
          "height": 186
        },
        "id": "aga5-d4_i-po",
        "outputId": "22b22a8d-2aa3-4e18-f3c9-0f5251c8b1bb"
      },
      "execution_count": null,
      "outputs": [
        {
          "output_type": "display_data",
          "data": {
            "image/png": "[encoded data removed]",
            "text/plain": [
              "<Figure size 1440x576 with 7 Axes>"
            ]
          },
          "metadata": {
            "needs_background": "light"
          }
        }
      ]
    },
    {
      "cell_type": "markdown",
      "source": [
        "## Training the model"
      ],
      "metadata": {
        "id": "B22WfSsthaar"
      }
    },
    {
      "cell_type": "code",
      "source": [
        "clf = LogisticRegression(tol=0.01)\n",
        "clf.fit(x_train, y_train)"
      ],
      "metadata": {
        "colab": {
          "base_uri": "https://localhost:8080/"
        },
        "id": "npTBTNGThaRz",
        "outputId": "dc55bd1a-2590-41eb-bf62-1d76fe4576fa"
      },
      "execution_count": null,
      "outputs": [
        {
          "output_type": "execute_result",
          "data": {
            "text/plain": [
              "LogisticRegression(tol=0.01)"
            ]
          },
          "metadata": {},
          "execution_count": 42
        }
      ]
    },
    {
      "cell_type": "markdown",
      "source": [
        "## Testing the model"
      ],
      "metadata": {
        "id": "On8LiuwlzDbG"
      }
    },
    {
      "cell_type": "code",
      "source": [
        "y_pred = clf.predict(x_test)\n",
        "from sklearn.metrics import accuracy_score\n",
        "print(f'Accuracy of the model is {round(accuracy_score(y_test,y_pred)*100,2)}%')"
      ],
      "metadata": {
        "colab": {
          "base_uri": "https://localhost:8080/"
        },
        "id": "n5fNdtCjzNyw",
        "outputId": "259262d4-8067-4c86-a945-d8434ac7dfb2"
      },
      "execution_count": null,
      "outputs": [
        {
          "output_type": "stream",
          "name": "stdout",
          "text": [
            "Accuracy of the model is 91.87%\n"
          ]
        }
      ]
    }
  ]
}